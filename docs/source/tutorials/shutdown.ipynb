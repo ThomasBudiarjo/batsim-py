{
 "cells": [
  {
   "cell_type": "markdown",
   "metadata": {},
   "source": [
    "# Shutdown"
   ]
  },
  {
   "cell_type": "markdown",
   "metadata": {},
   "source": [
    "The Shutdown Problem consist of determining the moments to switch off resources in order to save energy. Idle resources consume non-negligible amounts of energy that can be minimized by simply turning them off but the energy/time required to switch On-Off resources can be costly. Therefore, the shutdown policy must balance between performance and energy efficiency.\n",
    "\n",
    "This tutorial demonstrate how to implement a shutdown policy and use Batsim-py to evaluate it. To this end, we first start defining the simulation inputs (platform and workload) to present the implementation and the results."
   ]
  },
  {
   "cell_type": "markdown",
   "metadata": {},
   "source": [
    "## Simulation Inputs"
   ]
  },
  {
   "cell_type": "markdown",
   "metadata": {},
   "source": [
    "To evaluate the shutdown policy performance, we must define a platform and one or more workloads. \n",
    "\n",
    "The platform will describe how the computing resources are distributed, their performance (measured in flop/s) and energy model. \n",
    "\n",
    "The workload will simulate user behavior and describe the jobs to be submitted to the system."
   ]
  },
  {
   "cell_type": "markdown",
   "metadata": {},
   "source": [
    "### Platform"
   ]
  },
  {
   "cell_type": "markdown",
   "metadata": {
    "raw_mimetype": "text/restructuredtext"
   },
   "source": [
    "For this tutorial, we will define the platform as a cluster of 2 computing \n",
    "resources (hosts) without networking and storage resources:"
   ]
  },
  {
   "cell_type": "markdown",
   "metadata": {},
   "source": [
    "<div class=\"alert alert-info\">\n",
    "\n",
    "**Note**\n",
    "\n",
    "To fully understand the platform description, you are encouraged to read the [Simgrid documentation](https://simgrid.org/doc/latest/XML_Reference.html#platform-reference).\n",
    "\n",
    "</div>"
   ]
  },
  {
   "cell_type": "raw",
   "metadata": {
    "raw_mimetype": "text/restructuredtext"
   },
   "source": [
    ".. literalinclude:: platforms/energy_hosts_2.xml\n",
    "  :language: XML\n"
   ]
  },
  {
   "cell_type": "markdown",
   "metadata": {},
   "source": [
    "To summarize the platform:\n",
    "\n",
    "\n",
    "- We define a **\"master_host\"** (check the ``id`` attribute) to be used by our scheduler (by Batsim) which, won't be accounted in the simulation results (only Batsim can use this host).\n",
    "- For each host, in accordance with the ``sleep_pstates`` property, we define 4 power states:\n",
    "\n",
    "    - A sleeping power state (0) that consumes 9 Watts (W).\n",
    "    - A computing power state (1) that consumes 95 W while idle and 190 W when computing.\n",
    "    - A switching on power state (2) that consumes 125 W.\n",
    "    - A switching off power state (3) that consumes 101 W.\n",
    "\n",
    "- Each power state has a speed defined in flop/s and the speeds of the transition states (switch On/Off) are the ones that define the time in which the transition is complete:\n",
    "\n",
    "    - The switching off power state has a speed of 0.3334 flop/s. Thus, the host will take $\\frac{1}{0.3334} = \\approx 3$ seconds to shutdown.\n",
    "    - The switching on power state has a speed of 1.0001 flop/s. Thus, the host will take $\\frac{1}{1.0001} = \\approx 1$ second to boot.\n"
   ]
  },
  {
   "cell_type": "markdown",
   "metadata": {},
   "source": [
    "<div class=\"alert alert-warning\">\n",
    "\n",
    "**Warning**\n",
    "    \n",
    "When you define a time $t$ to proceed in Batsim-py, only the events that happened before $t$ will be dispatched ($< t$). This is the reason we defined the switching on speed to be 1.0001 flop/s instead of 1.0 flop/s. Otherwise, the boot up won't be accounted with we proceed the simulation in 1 second.\n",
    "\n",
    "</div>"
   ]
  },
  {
   "cell_type": "markdown",
   "metadata": {},
   "source": [
    "### Workload"
   ]
  },
  {
   "cell_type": "markdown",
   "metadata": {},
   "source": [
    "After describing the platform, we must specify the workload. Let's define a simple workload of 4 jobs and 2 simples profiles with cpu only."
   ]
  },
  {
   "cell_type": "raw",
   "metadata": {
    "raw_mimetype": "text/restructuredtext"
   },
   "source": [
    ".. literalinclude:: workloads/comp_4.json\n",
    "  :language: JSON\n"
   ]
  },
  {
   "cell_type": "markdown",
   "metadata": {},
   "source": [
    "To summarize the workload:\n",
    "\n",
    "- We define 4 jobs to be submitted in different simulation times (1, 5 and 10 seconds).\n",
    "- We define 2 profiles to specify how many flops/s (``cpu``) the job will compute on each requested hosts (80 Mf and 120 Mf)."
   ]
  },
  {
   "cell_type": "markdown",
   "metadata": {},
   "source": [
    "<div class=\"alert alert-info\">\n",
    "\n",
    "**Note**\n",
    "    \n",
    "To fully understand the workload format, you're encouraged to read the great [Batsim documentation](https://batsim.readthedocs.io/en/latest/input-workload.html)\n",
    "\n",
    "</div>"
   ]
  },
  {
   "cell_type": "raw",
   "metadata": {
    "raw_mimetype": "text/restructuredtext"
   },
   "source": [
    ".. todo::\n",
    "    Write tutorial about implementing shutdown policies.\n"
   ]
  }
 ],
 "metadata": {
  "celltoolbar": "Raw Cell Format",
  "kernelspec": {
   "display_name": "Python 3",
   "language": "python",
   "name": "python3"
  },
  "language_info": {
   "codemirror_mode": {
    "name": "ipython",
    "version": 3
   },
   "file_extension": ".py",
   "mimetype": "text/x-python",
   "name": "python",
   "nbconvert_exporter": "python",
   "pygments_lexer": "ipython3",
   "version": "3.7.6"
  }
 },
 "nbformat": 4,
 "nbformat_minor": 4
}
