{
 "cells": [
  {
   "cell_type": "markdown",
   "metadata": {},
   "source": [
    "# Scheduling"
   ]
  },
  {
   "cell_type": "markdown",
   "metadata": {},
   "source": [
    "The objective of the scheduler is to assign jobs to resources. The scheduler policy determines the rules that dictate how to conduct this mapping under various objectives: makespan, slowdown, energy, waiting time, and many others. Batsim allow us to evaluate the performance of different schedulers under distinct scenarios.\n",
    "\n",
    "The objective of this tutorial is to demonstrate how scheduling policies can be evaluated with batsim-py. First, we define the simulation inputs (platform and workload). Then, we implement the scheduling policy. Lastly, we run the simulation to collect statistics about the performance of each scheduling policy implemented."
   ]
  },
  {
   "cell_type": "markdown",
   "metadata": {},
   "source": [
    "## Simulation Inputs"
   ]
  },
  {
   "cell_type": "markdown",
   "metadata": {},
   "source": [
    "To evaluate the scheduler performance, we must define a platform and one or more workloads. The platform will describe how the computing resources are distributed and their performance (measured in flop/s), while the workload will simulate user behavior and describe the jobs to be submitted to the system."
   ]
  },
  {
   "cell_type": "markdown",
   "metadata": {},
   "source": [
    "### Platform"
   ]
  },
  {
   "cell_type": "markdown",
   "metadata": {
    "raw_mimetype": "text/restructuredtext"
   },
   "source": [
    "For this tutorial, we will define the platform as a cluster of 2 computing \n",
    "resources (hosts) without networking and storage resources. Moreover, we define \n",
    "just 1 power state as we are not interested in the energy consumption of the hosts. \n",
    "Check the [Shutdown tutorial](shutdown.rst) if you want to know how to use the \n",
    "energy model."
   ]
  },
  {
   "cell_type": "markdown",
   "metadata": {},
   "source": [
    "<div class=\"alert alert-info\">\n",
    "\n",
    "**Note**\n",
    "\n",
    "To fully understand the platform description, you are encouraged to read the [Simgrid documentation](https://simgrid.org/doc/latest/XML_Reference.html#platform-reference).\n",
    "\n",
    "</div>"
   ]
  },
  {
   "cell_type": "raw",
   "metadata": {
    "raw_mimetype": "text/restructuredtext"
   },
   "source": [
    ".. literalinclude:: platforms/hosts_2.xml\n",
    "  :language: XML\n"
   ]
  },
  {
   "cell_type": "markdown",
   "metadata": {},
   "source": [
    "To summarize the platform:\n",
    "\n",
    "- We define a **\"master_host\"** (check the ``id`` attribute) to be used by our scheduler (by Batsim). This host won't be accounted in the simulation results (only Batsim can use this host).\n",
    "- For each host, we define just one power state. This means we're unable to shutdown or boot the hosts. \n",
    "- The power state (0) defines:\n",
    "\n",
    "    - The host can compute 1000010.0 flop/s.\n",
    "    - The host consumes 190.1 Watts when it's computing a job and 95.0 Watts when it's idle."
   ]
  },
  {
   "cell_type": "markdown",
   "metadata": {},
   "source": [
    "<div class=\"alert alert-warning\">\n",
    "\n",
    "**Warning**\n",
    "    \n",
    "When you define a time $t$ to proceed the simulation in Batsim-py, only the events that happened before $t$ will be dispatched $< t$. This is the reason we defined the host speed to be $1000010.0$ flop/s instead of $1000000$ flop/s. Otherwise, a job that computes $1$ Mf would not dispatch a completed event if we proceed the time in 1 second, it would only dispatch if we proceed the time in 1.1 seconds.\n",
    "\n",
    "</div>"
   ]
  },
  {
   "cell_type": "markdown",
   "metadata": {},
   "source": [
    "### Workload"
   ]
  },
  {
   "cell_type": "markdown",
   "metadata": {},
   "source": [
    "After describing the platform, we must specify the workload. Let's define a simple workload of 4 jobs and 2 simples profiles with cpu only."
   ]
  },
  {
   "cell_type": "raw",
   "metadata": {
    "raw_mimetype": "text/restructuredtext"
   },
   "source": [
    ".. literalinclude:: workloads/comp_4.json\n",
    "  :language: JSON\n"
   ]
  },
  {
   "cell_type": "markdown",
   "metadata": {},
   "source": [
    "To summarize the workload:\n",
    "\n",
    "- We define 4 jobs to be submitted in different simulation times (1, 5 and 10 seconds).\n",
    "- We define 2 profiles to specify how many flops/s (``cpu``) the job will compute on each requested hosts (80 Mf and 120 Mf)."
   ]
  },
  {
   "cell_type": "markdown",
   "metadata": {},
   "source": [
    "<div class=\"alert alert-info\">\n",
    "\n",
    "**Note**\n",
    "    \n",
    "To fully understand the workload format, you're encouraged to read the great [Batsim documentation](https://batsim.readthedocs.io/en/latest/input-workload.html)\n",
    "\n",
    "</div>"
   ]
  },
  {
   "cell_type": "markdown",
   "metadata": {},
   "source": [
    "## Schedulers"
   ]
  },
  {
   "cell_type": "markdown",
   "metadata": {},
   "source": [
    "### First Come First Served (FCFS) "
   ]
  },
  {
   "cell_type": "markdown",
   "metadata": {},
   "source": [
    "The FCFS policy schedule jobs by the order of their arrival. Thus, we only need \n",
    "to know the jobs submission time (to give execution priorities) and the number \n",
    "of resources available (assuming that a host can compute a single job per \n",
    "time):"
   ]
  },
  {
   "cell_type": "code",
   "execution_count": 1,
   "metadata": {},
   "outputs": [],
   "source": [
    "from batsim_py.simulator import SimulatorHandler\n",
    "\n",
    "class FCFSScheduler:\n",
    "    def __init__(self, simulator: SimulatorHandler) -> None:\n",
    "        self.simulator = simulator\n",
    "\n",
    "    def __str__(self) -> str:\n",
    "        return \"FCFS\"\n",
    "        \n",
    "    def schedule(self) -> None:\n",
    "        assert self.simulator.is_running\n",
    "\n",
    "        for job in self.simulator.queue:\n",
    "            available = self.simulator.platform.get_not_allocated_hosts()  # Hosts\n",
    "\n",
    "            if job.res <= len(available):\n",
    "                # Schedule if the job can start now.\n",
    "                allocation = [h.id for h in available[:job.res]]\n",
    "                self.simulator.allocate(job.id, allocation)\n",
    "            else:\n",
    "                # Otherwise, wait for resources.\n",
    "                break"
   ]
  },
  {
   "cell_type": "markdown",
   "metadata": {
    "raw_mimetype": "text/restructuredtext"
   },
   "source": [
    "We start defining a simple class and we do not follow an event-based design. Thus, the scheduler will only take decisions when it’s directly called.\n",
    "\n",
    "The implementation is very simple and the policy rules are implemented in the schedule method. \n",
    "\n",
    "For each job in the queue, we check if there are resources available. Available resources are those that are not allocated for any job. If there are available resources for the first job in the queue, we allocate resources to it. Otherwise, we stop scheduling and wait until the required number of resources are released."
   ]
  },
  {
   "cell_type": "markdown",
   "metadata": {},
   "source": [
    "<div class=\"alert alert-info\">\n",
    "\n",
    "**Note**\n",
    "    \n",
    "If you want an event-based design, you can use the dispatching mechanism to subscribe to job events. Refer to the [Dispatcher docs](../api_doc/dispatcher.rst) for further information.\n",
    "\n",
    "</div>"
   ]
  },
  {
   "cell_type": "markdown",
   "metadata": {},
   "source": [
    "### EASY Backfilling (EASY) "
   ]
  },
  {
   "cell_type": "markdown",
   "metadata": {},
   "source": [
    "The EASY policy extends the FCFS to increase its efficiency. A disadvantage of the FCFS is that some resources may remain idle even though there are jobs in the queue that could use it.\n",
    "\n",
    "To solve this inefficiency and prevent job starvation, the EASY policy implements a backfilling mechanism that allows short jobs to skip ahead provided they do not delay the job at the head of the queue (called priority job).\n",
    "\n",
    "Therefore, to implement the EASY scheduler we just need to extend the FCFS to include this mechanism."
   ]
  },
  {
   "cell_type": "code",
   "execution_count": 2,
   "metadata": {},
   "outputs": [],
   "source": [
    "class EASYScheduler(FCFSScheduler):\n",
    "    def __str__(self) -> str:\n",
    "        return \"EASY\"\n",
    "\n",
    "    def schedule(self) -> None:\n",
    "        # Schedule with FCFS\n",
    "        super().schedule()\n",
    "        \n",
    "        # Apply the backfilling mechanism\n",
    "        if len(self.simulator.queue) >= 2: \n",
    "            self.backfill()\n",
    "\n",
    "    def backfill(self) -> None:\n",
    "        assert len(self.simulator.queue) >= 2\n",
    "\n",
    "        # The priority job is the first of the queue.\n",
    "        p_job = self.simulator.queue[0]\n",
    "\n",
    "        # The remaining jobs can be scheduled if they do not delay the p_job.\n",
    "        backfilling_queue = self.simulator.queue[1:]\n",
    "\n",
    "        # Get the next expected releases\n",
    "        next_releases = sorted(self.simulator.agenda, key=lambda a: a.release_time)\n",
    "\n",
    "        # Get the last required host for p_job.\n",
    "        last_host = next_releases[p_job.res - 1]\n",
    "\n",
    "        # The last host release time will be the p_job expected start time.\n",
    "        p_start_t = last_host.release_time\n",
    "\n",
    "        # Find candidates and reserve resources for p_job.\n",
    "        candidates = [r.host_id for r in next_releases if r.release_time <= p_start_t]\n",
    "        \n",
    "        # Try to maximize the number of hosts for the remaining queue.\n",
    "        reservation = candidates[-p_job.res:]\n",
    "\n",
    "        # Let's try to start some jobs earlier.\n",
    "        for job in backfilling_queue:\n",
    "            available = self.simulator.platform.get_not_allocated_hosts()  # Hosts\n",
    "            not_reserved = [h for h in available if h.id not in reservation]\n",
    "\n",
    "            if job.res <= len(not_reserved):\n",
    "                # Schedule job on not reserved hosts.                \n",
    "                allocation = [h.id for h in not_reserved[:job.res]]\n",
    "                self.simulator.allocate(job.id, allocation)\n",
    "            elif job.walltime and job.walltime <= p_start_t and job.res <= len(available):\n",
    "                # Schedule job on reserved hosts without delaying p_job.                \n",
    "                allocation = [h.id for h in available[:job.res]]\n",
    "                self.simulator.allocate(job.id, allocation)"
   ]
  },
  {
   "cell_type": "markdown",
   "metadata": {},
   "source": [
    "We begin the EASY implementation by inheriting the ``FCFSScheduler`` class. After the FCFS finishes scheduling jobs, we try to fill the gaps with the remaining queue. This is exactly what we do in the ``schedule`` method. We start the backfilling mechanism only if there are more than 2 jobs in the queue. Otherwise, it'd not make sense.\n",
    "\n",
    "The backfilling mechanism is simple. First, we estimate when the required number of resources to start the priority job will be available. This estimation is based on the ``walltime`` property that each job provides in the workload and is given by the [agenda](../api_doc/simulator.rst#batsim_py.simulator.SimulatorHandler.agenda) property of the simulator. Once we know the expected start time of the priority job (``p_start_t``) we can find some candidates (hosts) to be reserved. \n",
    "\n",
    "For candidates, we select all hosts that will be available before ``p_start_t``. Then, we try to reserve the candidates that are close to ``p_start_t`` in order to maximize the hosts available for the backfilling queue. After that, we can start to fill the gaps with the jobs in the backfilling queue. Only jobs that can start on not reserved hosts or do not delay the execution of the priority job (``walltime`` $<=$ ``p_start_t``) will be scheduled. "
   ]
  },
  {
   "cell_type": "markdown",
   "metadata": {},
   "source": [
    "<div class=\"alert alert-info\">\n",
    "\n",
    "**Note**\n",
    "    \n",
    "If the job ``walltime`` is unset, the simulator cannot estimate the expected release time. In this case, the agenda will return [numpy.inf](https://numpy.org/devdocs/reference/constants.html#numpy.Inf) and the job cannot be anticipated by the backfilling mechanism.\n",
    "\n",
    "</div>"
   ]
  },
  {
   "cell_type": "markdown",
   "metadata": {},
   "source": [
    "## Running Simulation"
   ]
  },
  {
   "cell_type": "markdown",
   "metadata": {},
   "source": [
    "After defining the simulation inputs and the schedulers we want to evaluate, it's time to run the simulation and collect some results.\n",
    "  \n",
    "The simulation procedure involves four steps:"
   ]
  },
  {
   "cell_type": "code",
   "execution_count": 3,
   "metadata": {},
   "outputs": [],
   "source": [
    "import batsim_py\n",
    "\n",
    "def run_simulation(scheduler):\n",
    "    simulator = batsim_py.SimulatorHandler()\n",
    "    scheduler = scheduler(simulator)\n",
    "\n",
    "    # 1) Instantiate monitors to collect simulation statistics\n",
    "    jobs_mon = batsim_py.monitors.JobMonitor(simulator)\n",
    "    sim_mon = batsim_py.monitors.SimulationMonitor(simulator)\n",
    "\n",
    "    # 2) Start simulation\n",
    "    simulator.start(platform=\"platforms/hosts_2.xml\",\n",
    "                    workload=\"workloads/comp_4.json\",\n",
    "                    verbosity=\"information\")\n",
    "\n",
    "    # 3) Schedule all jobs\n",
    "    while simulator.is_running:\n",
    "        scheduler.schedule()\n",
    "        simulator.proceed_time()  # proceed directly to the next event.\n",
    "    simulator.close()\n",
    "\n",
    "    # 4) Return/Dump statistics\n",
    "    return jobs_mon, sim_mon\n",
    "\n",
    "jobs_f, sim_f = run_simulation(FCFSScheduler)\n",
    "jobs_e, sim_e = run_simulation(EASYScheduler)"
   ]
  },
  {
   "cell_type": "markdown",
   "metadata": {},
   "source": [
    "We begin the simulation process by instantiating the simulator handler. This handler is passed as an argument when we instantiate monitors to collect statistics (check [Monitors docs](../api_doc/monitors.rst) for other options). \n",
    "\n",
    "After we define the monitors (**#1**) we can start the simulation by providing the inputs (**#2**). The simulation begins and while it's running we start the scheduling procedure. After the scheduler is done, we proceed the simulation time to the next event. This procedure is repeated until all jobs complete (**#3**). Lastly, we return the monitors in order to analyze it (**#4**). The monitors can also be used to dump the results into an external file."
   ]
  },
  {
   "cell_type": "markdown",
   "metadata": {},
   "source": [
    "<div class=\"alert alert-info\">\n",
    "\n",
    "**Note**\n",
    "    \n",
    "The [proceed_time](../api_doc/simulator.rst#batsim_py.simulator.SimulatorHandler.proceed_time) method of the simulator can also be used to proceed the simulation into a specific time. If no value is provided, the simulation will proceed the time directly to the next dispatched event.\n",
    "\n",
    "</div>"
   ]
  },
  {
   "cell_type": "markdown",
   "metadata": {},
   "source": [
    "## Analyzing Results"
   ]
  },
  {
   "cell_type": "markdown",
   "metadata": {},
   "source": [
    "The last step in our scheduling evaluation is to analyze the results. The default monitors provide the most commonly used statistics, but you are free to extend it to cover specific scenarios.\n",
    "\n",
    "First, we analyze the performance of each scheduler policy:"
   ]
  },
  {
   "cell_type": "code",
   "execution_count": 4,
   "metadata": {},
   "outputs": [
    {
     "data": {
      "image/png": "[encoded data removed]",
      "text/plain": [
       "<Figure size 864x288 with 2 Axes>"
      ]
     },
     "metadata": {
      "needs_background": "light"
     },
     "output_type": "display_data"
    }
   ],
   "source": [
    "import pandas as pd\n",
    "import matplotlib.pyplot as plt\n",
    "%matplotlib inline\n",
    "\n",
    "# Read results\n",
    "fcfs, easy = sim_f.to_dataframe(), sim_e.to_dataframe()\n",
    "fcfs['name'], easy['name'] = \"FCFS\", \"EASY\"\n",
    "benchmark = pd.concat([fcfs, easy], ignore_index=True)\n",
    "\n",
    "# Waiting time\n",
    "plt.figure(figsize=(12,4))\n",
    "plt.subplot(1, 2, 1)\n",
    "plt.bar('name', 'mean_waiting_time', data=benchmark, width=0.6)\n",
    "plt.grid(axis='y')\n",
    "plt.ylabel(\"Averaged Waiting Time\")\n",
    "\n",
    "# Slowdown\n",
    "plt.subplot(1, 2, 2)\n",
    "plt.bar('name', 'mean_slowdown', data=benchmark, width=0.6)\n",
    "plt.grid(axis='y')\n",
    "plt.ylabel(\"Averaged Slowdown\")\n",
    "\n",
    "# Show\n",
    "plt.show()"
   ]
  },
  {
   "cell_type": "markdown",
   "metadata": {},
   "source": [
    "Considering the averaged waiting time and slowdown, the EASY scheduler achieved the best performance. By implementing the EASY backfilling mechanism we were able to considerably minimize (on average) both the waiting time and slowdown of the jobs. \n",
    "\n",
    "To better understand where these gains come from, we can use the [evalys package](https://pypi.org/project/evalys/) to plot a Gantt chart:"
   ]
  },
  {
   "cell_type": "code",
   "execution_count": 5,
   "metadata": {},
   "outputs": [
    {
     "data": {
      "image/png": "[encoded data removed]",
      "text/plain": [
       "<Figure size 864x288 with 2 Axes>"
      ]
     },
     "metadata": {
      "needs_background": "light"
     },
     "output_type": "display_data"
    }
   ],
   "source": [
    "from evalys.jobset import JobSet\n",
    "from evalys.visu.legacy import plot_gantt\n",
    "    \n",
    "# Convert monitors to dataframes\n",
    "fcfs, easy = jobs_f.to_dataframe(), jobs_e.to_dataframe()\n",
    "\n",
    "# Load dataframes into JobSet objects.\n",
    "fcfs, easy = JobSet(fcfs), JobSet(easy)\n",
    "\n",
    "# Plot gantts\n",
    "_, ax_list = plt.subplots(1, 2, sharey=True, figsize=(12, 4))\n",
    "plot_gantt(fcfs, ax=ax_list[0], title=\"FCFS Scheduler\")\n",
    "plot_gantt(easy, ax=ax_list[1], title=\"EASY Scheduler\")\n",
    "\n",
    "# Show\n",
    "plt.ylim(ymin=0, ymax=2)\n",
    "plt.yticks([0, 1, 2]) # We have two hosts only.\n",
    "plt.show()"
   ]
  },
  {
   "cell_type": "markdown",
   "metadata": {},
   "source": [
    "Looking at the Gantt chart, we can observe the backfilling mechanism in action. The job ``w0!4`` was able to start before job ``w0!2`` without delaying it. Consequently, we achieved better waiting time and slowdown averages."
   ]
  },
  {
   "cell_type": "markdown",
   "metadata": {},
   "source": [
    "## Next Steps"
   ]
  },
  {
   "cell_type": "markdown",
   "metadata": {},
   "source": [
    "This tutorial is a very simple example of how to evaluate two scheduling policies. Neither the platform nor the workload was realistic. Moreover, we didn't consider the energy model. So, as the next steps, you can extend this tutorial with other policies, workloads, and platforms."
   ]
  }
 ],
 "metadata": {
  "celltoolbar": "Raw Cell Format",
  "kernelspec": {
   "display_name": "Python 3",
   "language": "python",
   "name": "python3"
  },
  "language_info": {
   "codemirror_mode": {
    "name": "ipython",
    "version": 3
   },
   "file_extension": ".py",
   "mimetype": "text/x-python",
   "name": "python",
   "nbconvert_exporter": "python",
   "pygments_lexer": "ipython3",
   "version": "3.8.1"
  }
 },
 "nbformat": 4,
 "nbformat_minor": 4
}